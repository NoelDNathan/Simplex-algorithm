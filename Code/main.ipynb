{
 "cells": [
  {
   "cell_type": "code",
   "execution_count": 2,
   "metadata": {},
   "outputs": [],
   "source": [
    "import pandas as pd\n",
    "import numpy as np"
   ]
  },
  {
   "cell_type": "code",
   "execution_count": null,
   "metadata": {},
   "outputs": [],
   "source": [
    "\n",
    "\n",
    "c = [8, -5, 6, 77, -77, 96, -74, -37, 91, -100, -10, -59, 28, 85, 0, 0, 0, 0]\n",
    "\n",
    "c = np.array(c)\n",
    "Cb = np.where(c != 0)\n",
    "Cn = np.where(c == 0)\n",
    "\n",
    "A = [[-67, 13, -26, 24, -32, 36, -36, 46, 11, 77, -64, -86, 90, 42, 0, 0, 0, 0], [-42, -70, 30, -74, 59, 35, -13, 6, 86, -54, 12, 91, 68, 82, 0, 0, 0, 0], [97, 80, -70, 45, 45, -34, 22, 55, -39, -20, 70, 31, 58, -27, 0, 0, 0, 0], [-45, -33, -35, 44, 34, 6, 100, -65, 30, 56, 38, -25, -5, -46, 0, 0, 0, 0], [59, 60, 92, 58, 83, 75, 74, 87, 70, 59, 63, 97, 52, 85, 1, 0, 0, 0], [-40, 89, -9, 79, 32, 3, 44, -36, 25, -86, 30, -33, 24, -84, 0, 1, 0, 0], [82, -24, -100, 30, -74, 1, 95, -57, -49, 55, -89, 90, 45, 50, 0, 0, -1, 0], [92, 97, -44, 35, 35, 48, 77, -17, -9, 74, 16, 70, -59, 29, 0, 0, 0, 1], [70, 22, 2, 69, 4, 92, -74, -83, 56, -69, 88, 69, 32, 69, 0, 0, 0, 0], [-42, 30, 98, 94, 8, -46, 70, -50, -14, -38, 30, 51, 86, 25, 0, 0, 0, 0]]\n",
    "A = np.array(A).T\n",
    "\n",
    "b = np.array([28, 216, 313, 54, 1015, 39, 54, 445, 348, 303])\n",
    "\n",
    "B = A[Cb]\n",
    "Xb = np.linalg.inv(B).dot(b)\n",
    "\n"
   ]
  },
  {
   "cell_type": "code",
   "execution_count": 10,
   "metadata": {},
   "outputs": [
    {
     "name": "stdout",
     "output_type": "stream",
     "text": [
      "Inversa de B: [[ 1. -1.]\n",
      " [-1.  2.]]\n",
      "Xb: [1. 1.]\n",
      "Es factible\n",
      "z: -3.0\n",
      "rn: [-1.  3.]\n",
      "db: [-1.  1.]\n"
     ]
    }
   ],
   "source": [
    "A = np.array([[2, 1, 1, 0], [1, 1, 0, 1]]).T\n",
    "b = np.array([3, 2])\n",
    "c = np.array([-1, -2, 0, 0])\n",
    "\n",
    "_B = [0, 1]\n",
    "_N = [2, 3]\n",
    "\n",
    "B = A[_B].T\n",
    "inv_B = np.linalg.inv(B)\n",
    "\n",
    "print(f\"Inversa de B: {inv_B}\")\n",
    "\n",
    "An = A[_N].T\n",
    "\n",
    "# Xb = B^-1 · b\n",
    "Xb = inv_B.dot(b)\n",
    "\n",
    "print(f\"Xb: {Xb}\")\n",
    "\n",
    "if all(Xb >= 0):\n",
    "    print(\"Es factible\")\n",
    "else:\n",
    "    print(\"No es factible\")\n",
    "\n",
    "\n",
    "\n",
    "Xn = np.array([0, 0]) # De donde sale Xn??\n",
    "\n",
    "# cb · Xb + cn · Xn\n",
    "z = c[_B].dot(Xb).sum(c[_N].dot(Xn))\n",
    "\n",
    "print(f\"z: {z}\")\n",
    "\n",
    "\n",
    "# Coste reducido\n",
    "# cn' - cb' · B^-1 · An\n",
    "\n",
    "rn = c[_N] - c[_B].dot(inv_B).dot(An)\n",
    "if all(rn >= 0):\n",
    "    print(\"No óptima\")\n",
    "\n",
    "print(f\"rn: {rn}\")\n",
    "#      x3   x4\n",
    "# rn: [-1.  3.]\n",
    "\n",
    "# Variable de entrada x3, por ser negativa??\n",
    "q = 3\n",
    "\n",
    "# 3. Calculo de SBF\n",
    "#    x3  x4\n",
    "dn = [1, 0]\n",
    "\n",
    "# db = -B^-1 · Aq\n",
    "db = - inv_B.dot(dn)\n",
    "\n",
    "# db = [-0.5  0.5]\n",
    "\n",
    "print(f\"db: {db}\")\n",
    "\n",
    "if all(db >= 0):\n",
    "    print(\"Problema no acotado\")\n",
    "\n",
    "# Calculo de θ\n",
    "# Min db(q) < 0\n",
    "# -Xb(p) / db(p)\n",
    "\n",
    "theta = -Xb[p] / db[p]\n",
    "\n",
    "\n",
    "\n",
    "\n"
   ]
  }
 ],
 "metadata": {
  "kernelspec": {
   "display_name": "Python 3",
   "language": "python",
   "name": "python3"
  },
  "language_info": {
   "codemirror_mode": {
    "name": "ipython",
    "version": 3
   },
   "file_extension": ".py",
   "mimetype": "text/x-python",
   "name": "python",
   "nbconvert_exporter": "python",
   "pygments_lexer": "ipython3",
   "version": "3.8.10"
  },
  "orig_nbformat": 4
 },
 "nbformat": 4,
 "nbformat_minor": 2
}
